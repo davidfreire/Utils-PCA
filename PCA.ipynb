{
 "cells": [
  {
   "cell_type": "code",
   "execution_count": 2,
   "metadata": {
    "collapsed": true
   },
   "outputs": [],
   "source": [
    "#BUILD PCA"
   ]
  },
  {
   "cell_type": "code",
   "execution_count": 3,
   "metadata": {
    "collapsed": false
   },
   "outputs": [],
   "source": [
    "#why? \n",
    "#1 - Space efficiency\n",
    "#2 - Computing efficiency\n",
    "#3 - Visualization"
   ]
  },
  {
   "cell_type": "code",
   "execution_count": 4,
   "metadata": {
    "collapsed": false
   },
   "outputs": [],
   "source": [
    "import numpy as np\n",
    "np.random.seed(1)"
   ]
  },
  {
   "cell_type": "code",
   "execution_count": 5,
   "metadata": {
    "collapsed": false
   },
   "outputs": [
    {
     "name": "stdout",
     "output_type": "stream",
     "text": [
      "[[ 1.62434536 -0.61175641 -0.52817175]\n",
      " [-1.07296862  0.86540763 -2.3015387 ]\n",
      " [ 1.74481176 -0.7612069   0.3190391 ]\n",
      " [-0.24937038  1.46210794 -2.06014071]\n",
      " [-0.3224172  -0.38405435  1.13376944]\n",
      " [-1.09989127 -0.17242821 -0.87785842]\n",
      " [ 0.04221375  0.58281521 -1.10061918]\n",
      " [ 1.14472371  0.90159072  0.50249434]\n",
      " [ 0.90085595 -0.68372786 -0.12289023]\n",
      " [-0.93576943 -0.26788808  0.53035547]\n",
      " [-0.69166075 -0.39675353 -0.6871727 ]\n",
      " [-0.84520564 -0.67124613 -0.0126646 ]\n",
      " [-1.11731035  0.2344157   1.65980218]\n",
      " [ 0.74204416 -0.19183555 -0.88762896]\n",
      " [-0.74715829  1.6924546   0.05080775]\n",
      " [-0.63699565  0.19091548  2.10025514]\n",
      " [ 0.12015895  0.61720311  0.30017032]\n",
      " [-0.35224985 -1.1425182  -0.34934272]\n",
      " [-0.20889423  0.58662319  0.83898341]\n",
      " [ 0.93110208  0.28558733  0.88514116]]\n",
      "(20, 3)\n"
     ]
    }
   ],
   "source": [
    "# 1 - Create our dataset\n",
    "\n",
    "mu_vec1 = np.array([0,0,0]) #sample mean\n",
    "cov_mat1 = np.array([[1,0,0],[0,1,0],[0,0,1]])\n",
    "\n",
    "class1_sample = np.random.multivariate_normal(mu_vec1, cov_mat1, 20) #creates a gaussian normal distribution in 3D\n",
    "print class1_sample #See https://i.stack.imgur.com/Tz6TC.png\n",
    "print class1_sample.shape\n",
    "\n",
    "class1_sample = class1_sample.T"
   ]
  },
  {
   "cell_type": "code",
   "execution_count": 6,
   "metadata": {
    "collapsed": false
   },
   "outputs": [
    {
     "name": "stdout",
     "output_type": "stream",
     "text": [
      "[[ 0.24560206  2.25286816  1.51292982]\n",
      " [ 0.70190716  1.48851815  0.92442829]\n",
      " [ 2.13162939  2.51981682  3.18557541]\n",
      " [-0.39649634 -0.44411381  0.49553414]\n",
      " [ 1.16003707  1.87616892  1.31563495]\n",
      " [-1.02220122  0.69379599  1.82797464]\n",
      " [ 1.23009474  1.76201118  0.77767186]\n",
      " [ 0.79924193  1.18656139  1.41005165]\n",
      " [ 1.19829972  1.11900865  0.32933771]\n",
      " [ 1.37756379  1.12182127  2.12948391]\n",
      " [ 2.19891788  1.18515642  0.62471505]\n",
      " [ 0.36126959  1.42349435  1.07734007]\n",
      " [ 0.65614632  1.04359686  0.37999916]\n",
      " [ 1.69803203  0.55287144  2.2245077 ]\n",
      " [ 1.40349164  1.59357852 -0.09491185]\n",
      " [ 1.16938243  1.74055645  0.0462994 ]\n",
      " [ 0.73378149  1.03261455 -0.37311732]\n",
      " [ 1.31515939  1.84616065  0.14048406]\n",
      " [ 1.35054598 -0.31228341  0.96130449]\n",
      " [-0.61577235  2.12141771  1.40890054]]\n",
      "(20, 3)\n"
     ]
    }
   ],
   "source": [
    "mu_vec2 = np.array([1,1,1]) #sample mean is going to be different this time\n",
    "cov_mat2 = np.array([[1,0,0],[0,1,0],[0,0,1]])\n",
    "\n",
    "class2_sample = np.random.multivariate_normal(mu_vec2, cov_mat2, 20) #creates a gaussian normal distribution in 3D\n",
    "print class2_sample #See https://i.stack.imgur.com/Tz6TC.png\n",
    "print class2_sample.shape\n",
    "\n",
    "class2_sample = class2_sample.T"
   ]
  },
  {
   "cell_type": "code",
   "execution_count": 7,
   "metadata": {
    "collapsed": false
   },
   "outputs": [
    {
     "name": "stdout",
     "output_type": "stream",
     "text": [
      "Class1:\n",
      "[[ 1.62434536 -1.07296862  1.74481176 -0.24937038 -0.3224172  -1.09989127\n",
      "   0.04221375  1.14472371  0.90085595 -0.93576943 -0.69166075 -0.84520564\n",
      "  -1.11731035  0.74204416 -0.74715829 -0.63699565  0.12015895 -0.35224985\n",
      "  -0.20889423  0.93110208]\n",
      " [-0.61175641  0.86540763 -0.7612069   1.46210794 -0.38405435 -0.17242821\n",
      "   0.58281521  0.90159072 -0.68372786 -0.26788808 -0.39675353 -0.67124613\n",
      "   0.2344157  -0.19183555  1.6924546   0.19091548  0.61720311 -1.1425182\n",
      "   0.58662319  0.28558733]\n",
      " [-0.52817175 -2.3015387   0.3190391  -2.06014071  1.13376944 -0.87785842\n",
      "  -1.10061918  0.50249434 -0.12289023  0.53035547 -0.6871727  -0.0126646\n",
      "   1.65980218 -0.88762896  0.05080775  2.10025514  0.30017032 -0.34934272\n",
      "   0.83898341  0.88514116]]\n",
      "Class2:\n",
      "[[ 0.24560206  0.70190716  2.13162939 -0.39649634  1.16003707 -1.02220122\n",
      "   1.23009474  0.79924193  1.19829972  1.37756379  2.19891788  0.36126959\n",
      "   0.65614632  1.69803203  1.40349164  1.16938243  0.73378149  1.31515939\n",
      "   1.35054598 -0.61577235]\n",
      " [ 2.25286816  1.48851815  2.51981682 -0.44411381  1.87616892  0.69379599\n",
      "   1.76201118  1.18656139  1.11900865  1.12182127  1.18515642  1.42349435\n",
      "   1.04359686  0.55287144  1.59357852  1.74055645  1.03261455  1.84616065\n",
      "  -0.31228341  2.12141771]\n",
      " [ 1.51292982  0.92442829  3.18557541  0.49553414  1.31563495  1.82797464\n",
      "   0.77767186  1.41005165  0.32933771  2.12948391  0.62471505  1.07734007\n",
      "   0.37999916  2.2245077  -0.09491185  0.0462994  -0.37311732  0.14048406\n",
      "   0.96130449  1.40890054]]\n",
      "Together:\n",
      "[[ 1.62434536 -1.07296862  1.74481176 -0.24937038 -0.3224172  -1.09989127\n",
      "   0.04221375  1.14472371  0.90085595 -0.93576943 -0.69166075 -0.84520564\n",
      "  -1.11731035  0.74204416 -0.74715829 -0.63699565  0.12015895 -0.35224985\n",
      "  -0.20889423  0.93110208  0.24560206  0.70190716  2.13162939 -0.39649634\n",
      "   1.16003707 -1.02220122  1.23009474  0.79924193  1.19829972  1.37756379\n",
      "   2.19891788  0.36126959  0.65614632  1.69803203  1.40349164  1.16938243\n",
      "   0.73378149  1.31515939  1.35054598 -0.61577235]\n",
      " [-0.61175641  0.86540763 -0.7612069   1.46210794 -0.38405435 -0.17242821\n",
      "   0.58281521  0.90159072 -0.68372786 -0.26788808 -0.39675353 -0.67124613\n",
      "   0.2344157  -0.19183555  1.6924546   0.19091548  0.61720311 -1.1425182\n",
      "   0.58662319  0.28558733  2.25286816  1.48851815  2.51981682 -0.44411381\n",
      "   1.87616892  0.69379599  1.76201118  1.18656139  1.11900865  1.12182127\n",
      "   1.18515642  1.42349435  1.04359686  0.55287144  1.59357852  1.74055645\n",
      "   1.03261455  1.84616065 -0.31228341  2.12141771]\n",
      " [-0.52817175 -2.3015387   0.3190391  -2.06014071  1.13376944 -0.87785842\n",
      "  -1.10061918  0.50249434 -0.12289023  0.53035547 -0.6871727  -0.0126646\n",
      "   1.65980218 -0.88762896  0.05080775  2.10025514  0.30017032 -0.34934272\n",
      "   0.83898341  0.88514116  1.51292982  0.92442829  3.18557541  0.49553414\n",
      "   1.31563495  1.82797464  0.77767186  1.41005165  0.32933771  2.12948391\n",
      "   0.62471505  1.07734007  0.37999916  2.2245077  -0.09491185  0.0462994\n",
      "  -0.37311732  0.14048406  0.96130449  1.40890054]]\n",
      "(3, 40)\n"
     ]
    }
   ],
   "source": [
    "#3 - merge data into one big dataset\n",
    "\n",
    "all_samples = np.concatenate((class1_sample, class2_sample), axis=1) #Column concatenation\n",
    "print('Class1:')\n",
    "print(class1_sample)\n",
    "print('Class2:')\n",
    "print(class2_sample)\n",
    "print('Together:')\n",
    "print(all_samples)\n",
    "print(all_samples.shape)"
   ]
  },
  {
   "cell_type": "code",
   "execution_count": 41,
   "metadata": {
    "collapsed": false
   },
   "outputs": [
    {
     "data": {
      "text/plain": [
       "array([[ 1.62434536, -0.61175641, -0.52817175],\n",
       "       [-1.07296862,  0.86540763, -2.3015387 ],\n",
       "       [ 1.74481176, -0.7612069 ,  0.3190391 ],\n",
       "       [-0.24937038,  1.46210794, -2.06014071],\n",
       "       [-0.3224172 , -0.38405435,  1.13376944],\n",
       "       [-1.09989127, -0.17242821, -0.87785842],\n",
       "       [ 0.04221375,  0.58281521, -1.10061918],\n",
       "       [ 1.14472371,  0.90159072,  0.50249434],\n",
       "       [ 0.90085595, -0.68372786, -0.12289023],\n",
       "       [-0.93576943, -0.26788808,  0.53035547],\n",
       "       [-0.69166075, -0.39675353, -0.6871727 ],\n",
       "       [-0.84520564, -0.67124613, -0.0126646 ],\n",
       "       [-1.11731035,  0.2344157 ,  1.65980218],\n",
       "       [ 0.74204416, -0.19183555, -0.88762896],\n",
       "       [-0.74715829,  1.6924546 ,  0.05080775],\n",
       "       [-0.63699565,  0.19091548,  2.10025514],\n",
       "       [ 0.12015895,  0.61720311,  0.30017032],\n",
       "       [-0.35224985, -1.1425182 , -0.34934272],\n",
       "       [-0.20889423,  0.58662319,  0.83898341],\n",
       "       [ 0.93110208,  0.28558733,  0.88514116],\n",
       "       [ 0.24560206,  2.25286816,  1.51292982],\n",
       "       [ 0.70190716,  1.48851815,  0.92442829],\n",
       "       [ 2.13162939,  2.51981682,  3.18557541],\n",
       "       [-0.39649634, -0.44411381,  0.49553414],\n",
       "       [ 1.16003707,  1.87616892,  1.31563495],\n",
       "       [-1.02220122,  0.69379599,  1.82797464],\n",
       "       [ 1.23009474,  1.76201118,  0.77767186],\n",
       "       [ 0.79924193,  1.18656139,  1.41005165],\n",
       "       [ 1.19829972,  1.11900865,  0.32933771],\n",
       "       [ 1.37756379,  1.12182127,  2.12948391],\n",
       "       [ 2.19891788,  1.18515642,  0.62471505],\n",
       "       [ 0.36126959,  1.42349435,  1.07734007],\n",
       "       [ 0.65614632,  1.04359686,  0.37999916],\n",
       "       [ 1.69803203,  0.55287144,  2.2245077 ],\n",
       "       [ 1.40349164,  1.59357852, -0.09491185],\n",
       "       [ 1.16938243,  1.74055645,  0.0462994 ],\n",
       "       [ 0.73378149,  1.03261455, -0.37311732],\n",
       "       [ 1.31515939,  1.84616065,  0.14048406],\n",
       "       [ 1.35054598, -0.31228341,  0.96130449],\n",
       "       [-0.61577235,  2.12141771,  1.40890054]])"
      ]
     },
     "execution_count": 41,
     "metadata": {},
     "output_type": "execute_result"
    }
   ],
   "source": [
    "all_samples.T"
   ]
  },
  {
   "cell_type": "code",
   "execution_count": 25,
   "metadata": {
    "collapsed": false
   },
   "outputs": [
    {
     "name": "stdout",
     "output_type": "stream",
     "text": [
      "(3,)\n",
      "(3, 1)\n"
     ]
    }
   ],
   "source": [
    "# 4 - Compute dimensional mean vector in order to achieve the covariance matrix\n",
    "#mean for each feature (we have 3 features)\n",
    "mean_vector = np.mean(all_samples, axis=1)\n",
    "mean_x = mean_vector[0] #also by doing mean_x = np.mean(all_samples[0,:])\n",
    "mean_y = mean_vector[1]\n",
    "mean_z = mean_vector[2]\n",
    "print(mean_vector.shape)\n",
    "mean_vector = np.array([[mean_x], [mean_y], [mean_z]]) #tranformed from (3,) to (3,1)\n",
    "mean_vector\n",
    "print(mean_vector.shape)"
   ]
  },
  {
   "cell_type": "code",
   "execution_count": 26,
   "metadata": {
    "collapsed": false
   },
   "outputs": [
    {
     "name": "stdout",
     "output_type": "stream",
     "text": [
      "The covariance matrix\n",
      "[[ 0.9868668   0.26943262  0.2855759 ]\n",
      " [ 0.26943262  0.92914135  0.30682016]\n",
      " [ 0.2855759   0.30682016  1.27528118]]\n"
     ]
    }
   ],
   "source": [
    "# 5 - Compute covariance matrix. It models the relationships between all the different features. \n",
    "#Is the degree by which two different random variables changes with respect to each other.\n",
    "#Equation here http://stats.seandolinar.com/making-a-covariance-matrix-in-r/\n",
    "cov_mat = np.zeros((3,3))\n",
    "\n",
    "for i in range((all_samples.shape[1])):\n",
    "    cov_mat += (all_samples[:,i].reshape(3,1) - mean_vector).dot((all_samples[:,i].reshape(3,1) - mean_vector).T)\n",
    "\n",
    "cov_mat *= 1./(all_samples.shape[1]-1.)\n",
    "\n",
    "\n",
    "print('The covariance matrix')\n",
    "print(cov_mat)\n",
    "\n",
    "#In just one line:\n",
    "#new_cov = np.cov(all_samples)\n",
    "#print(new_cov)\n"
   ]
  },
  {
   "cell_type": "code",
   "execution_count": 27,
   "metadata": {
    "collapsed": false
   },
   "outputs": [
    {
     "name": "stdout",
     "output_type": "stream",
     "text": [
      "Eigenvectors\n",
      "[[-0.49210223 -0.64670286  0.58276136]\n",
      " [-0.47927902 -0.35756937 -0.8015209 ]\n",
      " [-0.72672348  0.67373552  0.13399043]]\n",
      "Eigenvalues\n",
      "[ 1.67100943  0.83832597  0.68195393]\n"
     ]
    }
   ],
   "source": [
    "# 6 - Compute eigenvector and eigenvalues\n",
    "eig_val, eig_vect = np.linalg.eig(cov_mat)\n",
    "\n",
    "print('Eigenvectors') #the direction of data. Is the optimal set of minimun data we need to recreate all the data with the most accuracy.\n",
    "print(eig_vect)\n",
    "\n",
    "print('Eigenvalues') #the values on that direction\n",
    "print(eig_val)"
   ]
  },
  {
   "cell_type": "code",
   "execution_count": 28,
   "metadata": {
    "collapsed": false
   },
   "outputs": [
    {
     "name": "stdout",
     "output_type": "stream",
     "text": [
      "1.67100943053\n",
      "0.838325973416\n",
      "0.68195393031\n"
     ]
    },
    {
     "data": {
      "text/plain": [
       "[(1.6710094305328693, array([-0.49210223, -0.47927902, -0.72672348])),\n",
       " (0.83832597341584492, array([-0.64670286, -0.35756937,  0.67373552])),\n",
       " (0.68195393031018148, array([ 0.58276136, -0.8015209 ,  0.13399043]))]"
      ]
     },
     "execution_count": 28,
     "metadata": {},
     "output_type": "execute_result"
    }
   ],
   "source": [
    "# 7 - Create eigen pair (combine those values) and sort them.\n",
    "# Make a list of (eigenvalue, eigenvector) tuples\n",
    "eig_pairs = [(np.abs(eig_val[i]), eig_vect[:,i])\n",
    "             for i in range(len(eig_val))] #we use the absolute to turn into positive, it doesnt matter the sign\n",
    "\n",
    "# Sort the (eigenvalue, eigenvector) tuples from high to low\n",
    "eig_pairs.sort()\n",
    "eig_pairs.reverse()\n",
    "\n",
    "# Visually confirm that the list is correctly sorted by decreasing eigenvalues\n",
    "for i in eig_pairs:\n",
    "    print(i[0])\n",
    "eig_pairs"
   ]
  },
  {
   "cell_type": "code",
   "execution_count": 29,
   "metadata": {
    "collapsed": false
   },
   "outputs": [
    {
     "name": "stdout",
     "output_type": "stream",
     "text": [
      "Matrix W:\n",
      "[[-0.49210223 -0.64670286]\n",
      " [-0.47927902 -0.35756937]\n",
      " [-0.72672348  0.67373552]]\n"
     ]
    }
   ],
   "source": [
    "# 8 - Choose the k eigenvector we want. The dimensionality we want.\n",
    "#k is 2 \n",
    "#hstack - stack arrays in sequence horizontally\n",
    "matrix_w = np.hstack((eig_pairs[0][1].reshape(3,1),\n",
    "                      eig_pairs[1][1].reshape(3,1)))\n",
    "print('Matrix W:')\n",
    "print(matrix_w)"
   ]
  },
  {
   "cell_type": "code",
   "execution_count": 30,
   "metadata": {
    "collapsed": false
   },
   "outputs": [
    {
     "name": "stdout",
     "output_type": "stream",
     "text": [
      "New 2D Dataset - feature matrix\n",
      "[[-0.12230714 -1.18757151]\n",
      " [ 1.78582073 -1.16617976]\n",
      " [-0.72564846 -0.64124251]\n",
      " [ 0.91911067 -1.74952646]\n",
      " [-0.48120545  1.10969495]\n",
      " [ 1.26186049  0.18151348]\n",
      " [ 0.49974121 -0.97722286]\n",
      " [-1.36060904 -0.72412904]\n",
      " [-0.02630959 -0.42090149]\n",
      " [ 0.20346559  1.05827266]\n",
      " [ 1.02990798  0.12619324]\n",
      " [ 0.74684543  0.77808138]\n",
      " [-0.76873682  1.75701561]\n",
      " [ 0.37184198 -1.00931473]\n",
      " [-0.48040292 -0.08774954]\n",
      " [-1.30433953  1.75869787]\n",
      " [-0.57308381 -0.09616466]\n",
      " [ 0.9748035   0.4009659 ]\n",
      " [-0.78806782  0.49058694]\n",
      " [-1.23832629 -0.10791262]\n",
      " [-2.30009539  0.05492635]\n",
      " [-1.73062935 -0.3633537 ]\n",
      " [-4.57170736 -0.13330484]\n",
      " [ 0.04785487  0.74907576]\n",
      " [-2.42616804 -0.53466984]\n",
      " [-1.15792646  1.6445517 ]\n",
      " [-2.01497976 -0.90160187]\n",
      " [-1.98672036  0.00885182]\n",
      " [-1.36534078 -0.95318056]\n",
      " [-2.76311357  0.14270558]\n",
      " [-2.1041081  -1.4249294 ]\n",
      " [-1.64296088 -0.01678979]\n",
      " [-1.09921946 -0.54147105]\n",
      " [-2.71718701  0.20291779]\n",
      " [-1.38545546 -1.54140242]\n",
      " [-1.44331476 -1.3474191 ]\n",
      " [-0.58485289 -1.09515232]\n",
      " [-1.63411201 -1.41599875]\n",
      " [-1.21353834 -0.11407398]\n",
      " [-1.73760916  0.58889408]]\n"
     ]
    }
   ],
   "source": [
    "# 9 - Use d x k to transform samples to new subspace\n",
    "#dot product between orignal matrix and eigen pairs\n",
    "transformed = matrix_w.T.dot(all_samples)\n",
    "assert transformed.shape == (2,40), \"The matrix is not 2x40 dimensional.\"\n",
    "print(\"New 2D Dataset - feature matrix\")\n",
    "print(transformed.T)"
   ]
  },
  {
   "cell_type": "code",
   "execution_count": 31,
   "metadata": {
    "collapsed": false
   },
   "outputs": [
    {
     "data": {
      "image/png": "[encoded data removed]",
      "text/plain": [
       "<matplotlib.figure.Figure at 0x1118d8b10>"
      ]
     },
     "metadata": {},
     "output_type": "display_data"
    }
   ],
   "source": [
    "#plotting\n",
    "from matplotlib import pyplot as plt\n",
    "\n",
    "plt.plot(transformed[0,0:20], transformed[1,0:20],\n",
    "         'o', markersize=7, color='green', alpha=0.5, label='class1')\n",
    "plt.plot(transformed[0,20:40], transformed[1,20:40],\n",
    "         '^', markersize=7, color='red', alpha=0.5, label='class2')\n",
    "plt.xlim([-5,5])\n",
    "plt.ylim([-5,5])\n",
    "plt.xlabel('x_values')\n",
    "plt.ylabel('y_values')\n",
    "plt.legend()\n",
    "plt.title('Transformed samples with class labels')\n",
    "\n",
    "plt.show()"
   ]
  },
  {
   "cell_type": "code",
   "execution_count": 42,
   "metadata": {
    "collapsed": false
   },
   "outputs": [
    {
     "name": "stdout",
     "output_type": "stream",
     "text": [
      "(40, 2)\n",
      "[[-0.77536344 -1.00011356]\n",
      " [-2.68349132 -0.97872182]\n",
      " [-0.17202213 -0.45378457]\n",
      " [-1.81678126 -1.56206852]\n",
      " [-0.41646514  1.29715289]\n",
      " [-2.15953108  0.36897142]\n",
      " [-1.3974118  -0.78976491]\n",
      " [ 0.46293846 -0.5366711 ]\n",
      " [-0.871361   -0.23344354]\n",
      " [-1.10113618  1.2457306 ]\n",
      " [-1.92757856  0.31365118]\n",
      " [-1.64451602  0.96553932]\n",
      " [-0.12893377  1.94447355]\n",
      " [-1.26951257 -0.82185678]\n",
      " [-0.41726767  0.0997084 ]\n",
      " [ 0.40666894  1.94615581]\n",
      " [-0.32458678  0.09129328]\n",
      " [-1.87247409  0.58842384]\n",
      " [-0.10960277  0.67804488]\n",
      " [ 0.3406557   0.07954533]\n",
      " [ 1.4024248   0.24238429]\n",
      " [ 0.83295876 -0.17589576]\n",
      " [ 3.67403677  0.0541531 ]\n",
      " [-0.94552546  0.9365337 ]\n",
      " [ 1.52849745 -0.3472119 ]\n",
      " [ 0.26025587  1.83200964]\n",
      " [ 1.11730917 -0.71414392]\n",
      " [ 1.08904977  0.19630977]\n",
      " [ 0.4676702  -0.76572262]\n",
      " [ 1.86544298  0.33016352]\n",
      " [ 1.20643751 -1.23747146]\n",
      " [ 0.74529029  0.17066815]\n",
      " [ 0.20154887 -0.35401311]\n",
      " [ 1.81951642  0.39037573]\n",
      " [ 0.48778487 -1.35394447]\n",
      " [ 0.54564417 -1.15996115]\n",
      " [-0.3128177  -0.90769438]\n",
      " [ 0.73644142 -1.22854081]\n",
      " [ 0.31586775  0.07338396]\n",
      " [ 0.83993857  0.77635202]]\n",
      "(40, 2)\n",
      "ratio\n",
      "[ 0.52361577  0.26269194]\n"
     ]
    },
    {
     "data": {
      "image/png": "[encoded data removed]",
      "text/plain": [
       "<matplotlib.figure.Figure at 0x1125b00d0>"
      ]
     },
     "metadata": {},
     "output_type": "display_data"
    }
   ],
   "source": [
    "from sklearn.decomposition import PCA\n",
    "\n",
    "pca = PCA()\n",
    "pca.fit(all_samples.T)\n",
    "PCA(copy=True, iterated_power='auto', n_components=None, random_state=None,\n",
    "  svd_solver='auto', tol=0.0, whiten=False)\n",
    "\n",
    "pca.n_components = 2\n",
    "X_reduced =  pca.fit_transform(all_samples.T)\n",
    "print(X_reduced.shape)\n",
    "\n",
    "print(X_reduced)\n",
    "print(X_reduced.shape)\n",
    "print('ratio')\n",
    "print(pca.explained_variance_ratio_) \n",
    "X_reduced[:,0] *=-1 #Just for visualization, to keep an aspect ratio similar from the numpy version\n",
    "#plotting\n",
    "from matplotlib import pyplot as plt\n",
    "\n",
    "plt.plot(X_reduced[0:20, 0], X_reduced[0:20, 1],\n",
    "         'o', markersize=7, color='green', alpha=0.5, label='class1')\n",
    "plt.plot(X_reduced[20:40, 0], X_reduced[20:40, 1],\n",
    "         '^', markersize=7, color='red', alpha=0.5, label='class2')\n",
    "plt.xlim([-5,5])\n",
    "plt.ylim([-5,5])\n",
    "plt.xlabel('x_values')\n",
    "plt.ylabel('y_values')\n",
    "plt.legend()\n",
    "plt.title('Transformed samples with class labels')\n",
    "\n",
    "plt.show()"
   ]
  },
  {
   "cell_type": "code",
   "execution_count": null,
   "metadata": {
    "collapsed": true
   },
   "outputs": [],
   "source": []
  }
 ],
 "metadata": {
  "kernelspec": {
   "display_name": "Python 2",
   "language": "python",
   "name": "python2"
  },
  "language_info": {
   "codemirror_mode": {
    "name": "ipython",
    "version": 2
   },
   "file_extension": ".py",
   "mimetype": "text/x-python",
   "name": "python",
   "nbconvert_exporter": "python",
   "pygments_lexer": "ipython2",
   "version": "2.7.13"
  }
 },
 "nbformat": 4,
 "nbformat_minor": 2
}
